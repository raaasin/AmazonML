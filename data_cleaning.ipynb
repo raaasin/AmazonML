{
 "cells": [
  {
   "cell_type": "code",
   "execution_count": 11,
   "metadata": {},
   "outputs": [],
   "source": [
    "import pandas as pd\n",
    "train_data = pd.read_csv('dataset/train.csv') # Load the training data\n",
    "train_data = train_data.drop_duplicates(subset=['image_link'], keep='first')\n",
    "#remove rows with missing values\n",
    "train_data = train_data.dropna()\n"
   ]
  },
  {
   "cell_type": "code",
   "execution_count": 12,
   "metadata": {},
   "outputs": [],
   "source": [
    "#store only 10% of the data, to speed up the training, and to avoid memory issues\n",
    "#try to make sure all types of entries are present in the sample\n",
    "#train_data = train_data.sample(frac=0.1, random_state=1)\n",
    "unique_entities = train_data.groupby(['entity_name', 'entity_value']).first().reset_index()"
   ]
  },
  {
   "cell_type": "code",
   "execution_count": 15,
   "metadata": {},
   "outputs": [
    {
     "name": "stdout",
     "output_type": "stream",
     "text": [
      "(21384, 4)\n"
     ]
    }
   ],
   "source": [
    "#check size of the data\n",
    "print(unique_entities.shape)"
   ]
  },
  {
   "cell_type": "code",
   "execution_count": 19,
   "metadata": {},
   "outputs": [],
   "source": [
    "unique_entities.to_csv('dataset/unique_entities.csv', index=False)\n",
    "imglinks = unique_entities['image_link']"
   ]
  },
  {
   "cell_type": "code",
   "execution_count": null,
   "metadata": {},
   "outputs": [],
   "source": []
  },
  {
   "cell_type": "code",
   "execution_count": null,
   "metadata": {},
   "outputs": [],
   "source": []
  }
 ],
 "metadata": {
  "kernelspec": {
   "display_name": "Python 3",
   "language": "python",
   "name": "python3"
  },
  "language_info": {
   "codemirror_mode": {
    "name": "ipython",
    "version": 3
   },
   "file_extension": ".py",
   "mimetype": "text/x-python",
   "name": "python",
   "nbconvert_exporter": "python",
   "pygments_lexer": "ipython3",
   "version": "3.10.0"
  }
 },
 "nbformat": 4,
 "nbformat_minor": 2
}
