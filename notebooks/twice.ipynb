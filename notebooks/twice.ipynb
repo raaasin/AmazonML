{
 "cells": [
  {
   "cell_type": "code",
   "execution_count": 16,
   "metadata": {},
   "outputs": [],
   "source": [
    "import pandas as pd\n",
    "df=pd.read_csv('dataset/checking.csv')"
   ]
  },
  {
   "cell_type": "code",
   "execution_count": 17,
   "metadata": {},
   "outputs": [
    {
     "name": "stdout",
     "output_type": "stream",
     "text": [
      "0         65 centimetre\n",
      "1                   NaN\n",
      "2                   NaN\n",
      "3                   NaN\n",
      "4                   NaN\n",
      "              ...      \n",
      "131182       1500 pound\n",
      "131183       3.75 pound\n",
      "131184        300 pound\n",
      "131185         146 gram\n",
      "131186              NaN\n",
      "Name: answer, Length: 131187, dtype: object\n"
     ]
    },
    {
     "data": {
      "text/plain": [
       "30000"
      ]
     },
     "execution_count": 17,
     "metadata": {},
     "output_type": "execute_result"
    }
   ],
   "source": [
    "answers = df['answer']\n",
    "print(answers)\n",
    "df = df[df['answer'].isna()]\n",
    "#store the 5000th row till 10,000th row in a new csv file\n",
    "df=df[5000:10000]\n",
    "df.size"
   ]
  },
  {
   "cell_type": "code",
   "execution_count": 18,
   "metadata": {},
   "outputs": [],
   "source": [
    "df.to_csv('dataset/ten.csv',index=False)"
   ]
  },
  {
   "cell_type": "code",
   "execution_count": null,
   "metadata": {},
   "outputs": [],
   "source": []
  }
 ],
 "metadata": {
  "kernelspec": {
   "display_name": "Python 3",
   "language": "python",
   "name": "python3"
  },
  "language_info": {
   "codemirror_mode": {
    "name": "ipython",
    "version": 3
   },
   "file_extension": ".py",
   "mimetype": "text/x-python",
   "name": "python",
   "nbconvert_exporter": "python",
   "pygments_lexer": "ipython3",
   "version": "3.10.0"
  }
 },
 "nbformat": 4,
 "nbformat_minor": 2
}
